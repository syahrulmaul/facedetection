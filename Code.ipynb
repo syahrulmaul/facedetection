{
  "nbformat": 4,
  "nbformat_minor": 0,
  "metadata": {
    "colab": {
      "provenance": []
    },
    "kernelspec": {
      "name": "python3",
      "display_name": "Python 3"
    },
    "language_info": {
      "name": "python"
    }
  },
  "cells": [
    {
      "cell_type": "code",
      "source": [
        "!wget https://raw.githubusercontent.com/opencv/opencv/master/data/haarcascades/haarcascade_frontalface_default.xml"
      ],
      "metadata": {
        "id": "kwluqY_Tk1s4"
      },
      "execution_count": null,
      "outputs": []
    },
    {
      "cell_type": "code",
      "source": [
        "!pip install common"
      ],
      "metadata": {
        "id": "oorXqlGJl-rj"
      },
      "execution_count": null,
      "outputs": []
    },
    {
      "cell_type": "code",
      "execution_count": 48,
      "metadata": {
        "id": "fl5vwaJC7ZGr"
      },
      "outputs": [],
      "source": [
        "import cv2\n",
        "import common\n",
        "import numpy as np\n",
        "from google.colab import files\n",
        "\n",
        "%matplotlib inline \n",
        "from matplotlib import pyplot as plt\n",
        "import pylab\n",
        "pylab.rcParams['figure.figsize'] = (10.0, 8.0)"
      ]
    },
    {
      "cell_type": "code",
      "source": [
        "uploaded = files.upload()"
      ],
      "metadata": {
        "id": "v5UmHX_1p1i8"
      },
      "execution_count": null,
      "outputs": []
    },
    {
      "cell_type": "code",
      "source": [
        "base_image = cv2.imread('image.jpg')\n",
        "grey = cv2.cvtColor(base_image, cv2.COLOR_BGR2GRAY)\n",
        "rgb = cv2.cvtColor(base_image, cv2.COLOR_BGR2RGB)\n",
        "plt.imshow(rgb)"
      ],
      "metadata": {
        "id": "KT6mkRKihwnf"
      },
      "execution_count": null,
      "outputs": []
    },
    {
      "cell_type": "code",
      "source": [
        "test_image = cv2.imread('image.jpg')\n",
        "face_cascade = cv2.CascadeClassifier('haarcascade_frontalface_default.xml')\n",
        "faces = face_cascade.detectMultiScale(grey, 1.3, 5)\n",
        "for (x,y,w,h) in faces:\n",
        "     cv2.rectangle(test_image,(x,y),(x+w,y+h),(0,0,255),2)\n",
        "face_output = cv2.cvtColor(test_image, cv2.COLOR_BGR2RGB)\n",
        "plt.imshow(face_output)"
      ],
      "metadata": {
        "id": "rmseDbhYiKKo"
      },
      "execution_count": null,
      "outputs": []
    }
  ]
}